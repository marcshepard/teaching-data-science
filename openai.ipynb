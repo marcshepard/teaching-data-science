{
 "cells": [
  {
   "cell_type": "markdown",
   "metadata": {},
   "source": [
    "# Overview\n",
    "\n",
    "This notebook is a simple overview of how to use the open AI APIs to build some simple applications. Currently there are two:\n",
    "1) A simple chatbot app; \"AI therapist\"\n",
    "2) An inexpensive text-to-image generator.\n",
    "\n",
    "You can get an OpenAI API key for free for a trial period. Even after the trial finishes, you may decide to keep using it as it is a relative bargain. Consider:\n",
    "1) OpenAI plus is $20/month, and it is required to use DALL-E, or to get more access to the latest chatGPT models\n",
    "2) Meanwhile, at the API level, you can generate images for just a few cents per image, and perform chat sessions for less than a penny per session."
   ]
  },
  {
   "cell_type": "markdown",
   "metadata": {},
   "source": [
    "# Prereqs\n",
    "\n",
    "To get things set up, you'll need to set up a google colab account to run this notebook (and then modify/personalize it). You will also need to get an OpenAI API key.\n",
    "\n",
    "## Sign up for a Google Colab account\n",
    "1. Create a [Google colab](https://colab.research.google.com) account if you don't already have one. Colab was specifically built for creating and sharing interactive python data science code, and it's free tier is quite feature rich.\n",
    "2. Clone this notebook like so:\n",
    "    1. Go to \"Open Notebook\" (it should have popped up by default, but if not you can find it under the \"File\" menu)\n",
    "    2. Select \"GitHub\"\n",
    "    3. Enter the following path: https://github.com/marcshepard/teaching-data-science/blob/main/openai.ipynb\n",
    "    4. Click the search icon\n",
    "\n",
    "## Obtain an OpenAI API key\n",
    "Go to the [Open AI developer](https://platform.openai.com) site.\n",
    "Click on \"API keys\" on the left tab.\n",
    "Create a new \"project API SECRET key\".\n",
    "1. *Keep it somewhere* - once you move off that screen you can never see the secret again. They won't let you view it later after you have created it. \n",
    "2. *Keep it secret* - don't put it on any public sites or anywhere others can get at it.\n",
    "Here's an idea: Store it as a Google Colab secret (next section), as Colab will keep it secret and allows you to view it later if you need.\n",
    "\n",
    "## Copy your API key to Colab as a secret\n",
    "Meanwhile in Colab, click on the key icon on the left nav.\n",
    "Click \"Add new secret\":\n",
    "* Give it a name of \"OPENAI_KEY\"\n",
    "* Paste the value you got from OpenAI.\n",
    "* Toggle the \"Notebook access\" button\n",
    "\n",
    "OK; you are now ready to start building things on their APIs. But before you do, let's get a feel for how they work..."
   ]
  },
  {
   "cell_type": "markdown",
   "metadata": {},
   "source": [
    "# Play with the OpenAI platform console\n",
    "The [playground](https://platform.openai.com/playground) is a great place to get a feel for how the APIs work.\n",
    "\n",
    "## Chat\n",
    "Let's start in the Chat tab:\n",
    "\n",
    "**System** The System message guides how the chatbot responds. Try entering the following text (or something else if you prefer):\n",
    "<p style=\"margin:10px\">You are an AI therapist with great empathy and listening skills, specializing in CBT, DBT, and committed to helping your patients understand and work through any psychological challenges they may have</p>\n",
    "\n",
    "At the bottom of the screen, enter some message, like \"hi, doc\" and then click \"run\". Have a quick chat. Then take a few minutes to play around with other configurations:\n",
    "* Different System contexts\n",
    "* Different values of the sliders on the right:\n",
    "    * Temperature - higher = more creative/random responses; lower = more deterministic\n",
    "    * Top P - similar effect to temperature\n",
    "    * Frequency - higher = less repetition in the output (e.g, for creative writing)\n",
    "    * Presense - higher = increase likelyhood to introduce new topics (e.g., for brainstorming)\n",
    "\n",
    "\n",
    "## Assistant\n",
    "Assistant is a newer chat model that adds:\n",
    "1. *Files* can be attached to help with assistant replies. E.g., for an API therapist attachments migh include previous diagnosis for the patient, as this is important context but something that would not have been on the public internet when GPT was trained.\n",
    "2. *Code interpreter and functions* to allow it to perform actions, so you can build agents.\n",
    "3. *JSON response* support, in case you want structured data back that you can use in a program.\n",
    "\n",
    "Give it a whirl:\n",
    "* Add Instructions (the equivalent of Context for chat)\n",
    "* Upload a file document\n",
    "* Ask it some questions (e.g., summarize this document)\n",
    "\n",
    "## Usage\n",
    "Go to the usage tab and have a look at your usage. This let's you send monthly spend caps and track your usage. I spend just pennies/month.\n"
   ]
  },
  {
   "cell_type": "markdown",
   "metadata": {},
   "source": [
    "# Demo\n",
    "\n",
    "Let's do a quick demo of a chat app I built recently to learn *react* programming (the *front end* of a web site).\n",
    "\n",
    "# Build your own app\n",
    "\n",
    "Next, let's get your own chat app working on top of the open AI APIs. Below is some boilerplate code that is easy to customize for simple chat completion. Run the cell now; it won't do anything, but we'll see how easy it is to build on top of in a minute.\n",
    "\n",
    "When prompted, give the notebook permission to access the OPENAI_KEY secret."
   ]
  },
  {
   "cell_type": "code",
   "execution_count": 2,
   "metadata": {},
   "outputs": [],
   "source": [
    "!pip install openai\n",
    "import openai\n",
    "openai.api_key = userdata.get(\"OPENAI_KEY\")\n",
    "from google.colab import userdata\n",
    "\n",
    "def chat (assistant_name : str, assistant_context : str, initial_message : str):\n",
    "    \"\"\"Start a chat settion with OpenAI's chatbot\"\"\"\n",
    "    client_says = input(assistant_name + \": \" + initial_message + \" (type 'q' to end the session)\\n\").strip()\n",
    "    messages = [\n",
    "        {\"role\": \"system\", \"content\": assistant_context},\n",
    "        {\"role\": \"assistant\", \"content\": initial_message},\n",
    "        {\"role\": \"user\", \"content\": client_says},\n",
    "    ]\n",
    "    while client_says.lower() != \"q\":\n",
    "        response = openai.chat.completions.create(\n",
    "            model=\"gpt-3.5-turbo\",\n",
    "            messages=messages,\n",
    "            temperature=0.2\n",
    "        )\n",
    "        assistant_says = response.choices[0].message.content\n",
    "        print (f\"{assistant_name}: {assistant_says}\\n\")\n",
    "        messages.append({\"role\": \"assistant\", \"content\": assistant_says})\n",
    "        client_says = input().strip()\n",
    "        messages.append({\"role\": \"user\", \"content\": client_says})\n",
    "    print (\"Goodbye - I hope you enjoyed the sesion!\")\n",
    "\n",
    "# An AI therapist\n",
    "def psycho_analyze():\n",
    "    \"\"\"Create a psycho-analysis chat assistant on top of OpenAI's chatbot\"\"\"\n",
    "    chat (\"AI therapist\", \"You are a helpful AI therapist who probes for more insights into your patient\",\n",
    "           \"Hello, I am your AI therapist. Why have you come to see me today? \")\n",
    "\n",
    "# An AI translator\n",
    "def translate():\n",
    "    \"\"\"Create a translation chat assistant on top of OpenAI's chatbot\"\"\"\n",
    "    target_language = input(\"What language do you want to translate to? \")\n",
    "    chat (\"Translator\", f\"Translate everything the user types into {target_language}\",\n",
    "          f\"Type anything and I'll translate it into {target_language}\")"
   ]
  },
  {
   "cell_type": "code",
   "execution_count": 4,
   "metadata": {},
   "outputs": [
    {
     "name": "stdout",
     "output_type": "stream",
     "text": [
      "Translator: Je t'aime\n",
      "\n",
      "Translator: Est-ce qu'il y a quelque chose d'autre avec lequel je peux t'aider?\n",
      "\n",
      "Translator: N'hésitez pas à poser une question ou à demander de l'aide si vous en avez besoin.\n",
      "\n",
      "Goodbye - I hope you enjoyed the sesion!\n"
     ]
    }
   ],
   "source": [
    "# Now try running one of them, and experiment with building your own\n",
    "\n",
    "translate()     # TODO - after trying this, comment out this line and uncomment one of the ones below\n",
    "\n",
    "# psycho_analyze()\n",
    "\n",
    "# chat (<assistant_name>, <assistant_context>, <initial_message>) # TODO - replace the placeholders with your own values\n",
    "\n"
   ]
  },
  {
   "cell_type": "markdown",
   "metadata": {},
   "source": [
    "# DALL-E\n",
    "\n",
    "Next, let's build our own version of DALL-E.\n"
   ]
  },
  {
   "cell_type": "code",
   "execution_count": 5,
   "metadata": {},
   "outputs": [
    {
     "name": "stdout",
     "output_type": "stream",
     "text": [
      "Error: content_policy_violation. Your request was rejected as a result of our safety system. Image descriptions generated from your prompt may contain text that is not allowed by our safety system. If you believe this was done in error, your request may succeed if retried, or by adjusting your prompt.\n"
     ]
    }
   ],
   "source": [
    "def create_image():\n",
    "    \"\"\"Create an image from a text prompt\"\"\"\n",
    "    prompt = input(\"What do you want to see? \")\n",
    "    size =   \"1024x1024\"  # Min size for DALL-E-3\n",
    "\n",
    "    # Create an image URL from the prompt using the OpenAI API\n",
    "\n",
    "    # Modify the call to openai.images.generate below to catch openai.BadRequestError and print the error code and message\n",
    "    try:\n",
    "        response = openai.images.generate(\n",
    "            model=\"dall-e-3\",\n",
    "            prompt=prompt,\n",
    "            size=size\n",
    "        )\n",
    "    except openai.BadRequestError as e:\n",
    "        print(f\"Error: {e.code}. {e.body['message']}\")\n",
    "        return\n",
    "\n",
    "    url = response.data[0].url\n",
    "    print (f\"Image created successfully at {url}\")\n",
    "\n",
    "create_image()"
   ]
  },
  {
   "cell_type": "markdown",
   "metadata": {},
   "source": [
    "# Next up\n",
    "\n",
    "Go back to the [OpenAI usage page](https://platform.openai.com/usage). You will see that you don't have much usage, even after playhing with it a bit. Image generation was the most expensive part.\n",
    "\n",
    "Here are some resources to learn more:\n",
    "* [OpenAI documentation](https://platform.openai.com/docs/overview)\n",
    "* [OpenAI API guide](https://platform.openai.com/docs/api-reference)"
   ]
  }
 ],
 "metadata": {
  "kernelspec": {
   "display_name": "base",
   "language": "python",
   "name": "python3"
  },
  "language_info": {
   "codemirror_mode": {
    "name": "ipython",
    "version": 3
   },
   "file_extension": ".py",
   "mimetype": "text/x-python",
   "name": "python",
   "nbconvert_exporter": "python",
   "pygments_lexer": "ipython3",
   "version": "3.11.4"
  }
 },
 "nbformat": 4,
 "nbformat_minor": 2
}
